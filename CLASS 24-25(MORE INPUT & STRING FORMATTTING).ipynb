{
 "cells": [
  {
   "cell_type": "code",
   "execution_count": null,
   "id": "bd0bb8e0",
   "metadata": {},
   "outputs": [],
   "source": [
    "#LECTURE 24 TWO OR MORE INPUT"
   ]
  },
  {
   "cell_type": "code",
   "execution_count": 2,
   "id": "428d5bb4",
   "metadata": {},
   "outputs": [
    {
     "name": "stdout",
     "output_type": "stream",
     "text": [
      "sameer\n",
      "18\n"
     ]
    }
   ],
   "source": [
    "name,age=input(\"enter your name and age: \").split()\n",
    "print(name)\n",
    "print(age)"
   ]
  },
  {
   "cell_type": "code",
   "execution_count": null,
   "id": "0097745d",
   "metadata": {},
   "outputs": [],
   "source": [
    "#LECTURE 25 STRING FORMATTING\n"
   ]
  },
  {
   "cell_type": "code",
   "execution_count": 3,
   "id": "25b1ce99",
   "metadata": {},
   "outputs": [
    {
     "name": "stdout",
     "output_type": "stream",
     "text": [
      "hello sameer your age is 18\n"
     ]
    }
   ],
   "source": [
    "#python 3\n",
    "name=\"sameer\"\n",
    "age=18\n",
    "print(\"hello {} your age is {}\".format(name,age))"
   ]
  },
  {
   "cell_type": "code",
   "execution_count": 4,
   "id": "b4e264ed",
   "metadata": {},
   "outputs": [
    {
     "name": "stdout",
     "output_type": "stream",
     "text": [
      "hello sameer your age is 18\n",
      "hello sameer your age is 20\n"
     ]
    }
   ],
   "source": [
    "#python 3.6\n",
    "name=\"sameer\"\n",
    "age=18\n",
    "print(f\"hello {name} your age is {age}\")\n",
    "print(f\"hello {name} your age is {age+2}\")"
   ]
  },
  {
   "cell_type": "code",
   "execution_count": null,
   "id": "12df3cb4",
   "metadata": {},
   "outputs": [],
   "source": []
  }
 ],
 "metadata": {
  "kernelspec": {
   "display_name": "Python 3.9.12 ('base')",
   "language": "python",
   "name": "python3"
  },
  "language_info": {
   "codemirror_mode": {
    "name": "ipython",
    "version": 3
   },
   "file_extension": ".py",
   "mimetype": "text/x-python",
   "name": "python",
   "nbconvert_exporter": "python",
   "pygments_lexer": "ipython3",
   "version": "3.9.12"
  },
  "vscode": {
   "interpreter": {
    "hash": "a0d540e4747513a65e87964975f7c81fb7d18508ffc1a8c72ca7d81f5952c4de"
   }
  }
 },
 "nbformat": 4,
 "nbformat_minor": 5
}
