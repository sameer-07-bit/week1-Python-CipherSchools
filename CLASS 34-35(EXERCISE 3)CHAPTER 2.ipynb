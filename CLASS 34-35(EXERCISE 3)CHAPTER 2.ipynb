{
 "cells": [
  {
   "cell_type": "code",
   "execution_count": null,
   "id": "b8983dab",
   "metadata": {},
   "outputs": [],
   "source": [
    "#LECTURE 34 EXERCISE 3 CHAPTER 2"
   ]
  },
  {
   "cell_type": "markdown",
   "id": "db703808",
   "metadata": {},
   "source": []
  },
  {
   "cell_type": "code",
   "execution_count": 3,
   "id": "7eaaf956",
   "metadata": {},
   "outputs": [
    {
     "name": "stdout",
     "output_type": "stream",
     "text": [
      "length of string is 6\n",
      "count of characters is:0\n"
     ]
    }
   ],
   "source": [
    "name,char=input(\"enter coma separated name and char:\").split(\",\")\n",
    "print(f\"length of string is\",len(name))\n",
    "print(f\"count of characters is:{name.count(char)}\")\n"
   ]
  },
  {
   "cell_type": "code",
   "execution_count": 1,
   "id": "4cab83fd",
   "metadata": {},
   "outputs": [
    {
     "name": "stdout",
     "output_type": "stream",
     "text": [
      "length of string is 6\n",
      "count of characters is:1\n"
     ]
    }
   ],
   "source": [
    "name,char=input(\"enter coma separated name and char:\").split(\",\")\n",
    "print(f\"length of string is\",len(name))\n",
    "print(f\"count of characters is:{name.lower().count(char.lower())}\")"
   ]
  },
  {
   "cell_type": "code",
   "execution_count": null,
   "id": "cfc73320",
   "metadata": {},
   "outputs": [],
   "source": []
  },
  {
   "cell_type": "code",
   "execution_count": null,
   "id": "805dd7d2",
   "metadata": {},
   "outputs": [],
   "source": []
  },
  {
   "cell_type": "code",
   "execution_count": null,
   "id": "2dcfad8a",
   "metadata": {},
   "outputs": [],
   "source": []
  },
  {
   "cell_type": "code",
   "execution_count": null,
   "id": "b1546cf8",
   "metadata": {},
   "outputs": [],
   "source": []
  },
  {
   "cell_type": "code",
   "execution_count": null,
   "id": "9ec4e8b8",
   "metadata": {},
   "outputs": [],
   "source": []
  }
 ],
 "metadata": {
  "kernelspec": {
   "display_name": "Python 3.9.12 ('base')",
   "language": "python",
   "name": "python3"
  },
  "language_info": {
   "codemirror_mode": {
    "name": "ipython",
    "version": 3
   },
   "file_extension": ".py",
   "mimetype": "text/x-python",
   "name": "python",
   "nbconvert_exporter": "python",
   "pygments_lexer": "ipython3",
   "version": "3.9.12"
  },
  "vscode": {
   "interpreter": {
    "hash": "a0d540e4747513a65e87964975f7c81fb7d18508ffc1a8c72ca7d81f5952c4de"
   }
  }
 },
 "nbformat": 4,
 "nbformat_minor": 5
}
