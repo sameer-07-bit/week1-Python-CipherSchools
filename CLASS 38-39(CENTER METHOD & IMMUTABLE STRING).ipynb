{
 "cells": [
  {
   "cell_type": "code",
   "execution_count": null,
   "id": "6650fdd5",
   "metadata": {},
   "outputs": [],
   "source": [
    "#LECTURE 38 CENTER METHOD\n"
   ]
  },
  {
   "cell_type": "code",
   "execution_count": 1,
   "id": "314e7f61",
   "metadata": {},
   "outputs": [
    {
     "name": "stdout",
     "output_type": "stream",
     "text": [
      "*sameerrrr*\n"
     ]
    }
   ],
   "source": [
    "name=\"sameerrrr\"\n",
    "print(name.center(11,\"*\"))"
   ]
  },
  {
   "cell_type": "code",
   "execution_count": 2,
   "id": "e4c0cfc3",
   "metadata": {
    "scrolled": true
   },
   "outputs": [
    {
     "name": "stdout",
     "output_type": "stream",
     "text": [
      "****sameer****\n"
     ]
    }
   ],
   "source": [
    "name=input(\"enter your name\")\n",
    "print(name.center(len(name)+8,\"*\"))"
   ]
  },
  {
   "cell_type": "code",
   "execution_count": null,
   "id": "33516988",
   "metadata": {},
   "outputs": [],
   "source": [
    "#LECTURE 39 STRINGS ARE IMMUTABLE"
   ]
  },
  {
   "cell_type": "code",
   "execution_count": 8,
   "id": "773aa9ca",
   "metadata": {},
   "outputs": [
    {
     "name": "stdout",
     "output_type": "stream",
     "text": [
      "sTring\n"
     ]
    }
   ],
   "source": [
    "string=\"string\"\n",
    "print(string.replace(\"t\",\"T\"))"
   ]
  },
  {
   "cell_type": "code",
   "execution_count": null,
   "id": "5b106d04",
   "metadata": {},
   "outputs": [],
   "source": []
  },
  {
   "cell_type": "code",
   "execution_count": null,
   "id": "f8cd0566",
   "metadata": {},
   "outputs": [],
   "source": []
  },
  {
   "cell_type": "code",
   "execution_count": null,
   "id": "a73b0ced",
   "metadata": {},
   "outputs": [],
   "source": []
  },
  {
   "cell_type": "code",
   "execution_count": null,
   "id": "bad2bd94",
   "metadata": {},
   "outputs": [],
   "source": []
  },
  {
   "cell_type": "code",
   "execution_count": null,
   "id": "c419b9ba",
   "metadata": {},
   "outputs": [],
   "source": []
  },
  {
   "cell_type": "code",
   "execution_count": null,
   "id": "dffead81",
   "metadata": {},
   "outputs": [],
   "source": []
  }
 ],
 "metadata": {
  "kernelspec": {
   "display_name": "Python 3.9.12 ('base')",
   "language": "python",
   "name": "python3"
  },
  "language_info": {
   "codemirror_mode": {
    "name": "ipython",
    "version": 3
   },
   "file_extension": ".py",
   "mimetype": "text/x-python",
   "name": "python",
   "nbconvert_exporter": "python",
   "pygments_lexer": "ipython3",
   "version": "3.9.12"
  },
  "vscode": {
   "interpreter": {
    "hash": "a0d540e4747513a65e87964975f7c81fb7d18508ffc1a8c72ca7d81f5952c4de"
   }
  }
 },
 "nbformat": 4,
 "nbformat_minor": 5
}
