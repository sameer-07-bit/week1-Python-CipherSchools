{
 "cells": [
  {
   "cell_type": "code",
   "execution_count": null,
   "id": "fec2d7e4",
   "metadata": {},
   "outputs": [],
   "source": [
    "#LECTURE 36 SOLVE PROBLEM WITH SPACES WITH STIP METHOD"
   ]
  },
  {
   "cell_type": "code",
   "execution_count": 1,
   "id": "7f7d8ddc",
   "metadata": {},
   "outputs": [
    {
     "name": "stdout",
     "output_type": "stream",
     "text": [
      "   sameer    .............\n",
      "sameer    .............\n",
      "   sameer.............\n",
      "sameer.............\n"
     ]
    }
   ],
   "source": [
    "# LEFT STRIP\n",
    "name=\"   sameer    \"\n",
    "dots=\".............\"\n",
    "print(name+dots)\n",
    "print(name.lstrip()+dots)\n",
    "print(name.rstrip()+dots)\n",
    "print(name.strip()+dots)"
   ]
  },
  {
   "cell_type": "code",
   "execution_count": 2,
   "id": "7770ace9",
   "metadata": {},
   "outputs": [
    {
     "name": "stdout",
     "output_type": "stream",
     "text": [
      "sameerkumar\n"
     ]
    }
   ],
   "source": [
    "name=\"  sameer   kumar  \" \n",
    "print(name.replace(\" \",\"\"))"
   ]
  },
  {
   "cell_type": "code",
   "execution_count": null,
   "id": "1da8c6f3",
   "metadata": {},
   "outputs": [],
   "source": [
    "#LECTURE 37 FIND AND REPLACE METHOD"
   ]
  },
  {
   "cell_type": "code",
   "execution_count": 10,
   "id": "e66d31fa",
   "metadata": {},
   "outputs": [
    {
     "name": "stdout",
     "output_type": "stream",
     "text": [
      "she_is_beautiful_and_she_is_good_dancer\n",
      "she was beautiful and she is good dancer\n",
      "she was beautiful and she was good dancer\n"
     ]
    }
   ],
   "source": [
    "a=\"she is beautiful and she is good dancer\"\n",
    "print(a.replace(\" \",\"_\"))\n",
    "print(a.replace(\"is\",\"was\",1))\n",
    "print(a.replace(\"is\",\"was\"))"
   ]
  },
  {
   "cell_type": "code",
   "execution_count": 12,
   "id": "820a66cb",
   "metadata": {},
   "outputs": [
    {
     "name": "stdout",
     "output_type": "stream",
     "text": [
      "4\n",
      "4 5\n"
     ]
    }
   ],
   "source": [
    "a=\"she is beautiful and she is good dancer\"\n",
    "print(a.find(\"is\"))\n"
   ]
  },
  {
   "cell_type": "code",
   "execution_count": 16,
   "id": "95333436",
   "metadata": {},
   "outputs": [
    {
     "name": "stdout",
     "output_type": "stream",
     "text": [
      "25\n"
     ]
    }
   ],
   "source": [
    "a=\"she is beautiful and she is good dancer\"\n",
    "is_pos1=a.find(\"is\")\n",
    "is_pos2=a.find(\"is\",is_pos1+1)\n",
    "print(is_pos2)"
   ]
  },
  {
   "cell_type": "code",
   "execution_count": null,
   "id": "27871653",
   "metadata": {},
   "outputs": [],
   "source": []
  },
  {
   "cell_type": "code",
   "execution_count": null,
   "id": "37ba3aee",
   "metadata": {},
   "outputs": [],
   "source": []
  },
  {
   "cell_type": "code",
   "execution_count": null,
   "id": "ac36e7c3",
   "metadata": {},
   "outputs": [],
   "source": []
  },
  {
   "cell_type": "code",
   "execution_count": null,
   "id": "ffadc6b4",
   "metadata": {},
   "outputs": [],
   "source": []
  }
 ],
 "metadata": {
  "kernelspec": {
   "display_name": "Python 3.9.12 ('base')",
   "language": "python",
   "name": "python3"
  },
  "language_info": {
   "codemirror_mode": {
    "name": "ipython",
    "version": 3
   },
   "file_extension": ".py",
   "mimetype": "text/x-python",
   "name": "python",
   "nbconvert_exporter": "python",
   "pygments_lexer": "ipython3",
   "version": "3.9.12"
  },
  "vscode": {
   "interpreter": {
    "hash": "a0d540e4747513a65e87964975f7c81fb7d18508ffc1a8c72ca7d81f5952c4de"
   }
  }
 },
 "nbformat": 4,
 "nbformat_minor": 5
}
